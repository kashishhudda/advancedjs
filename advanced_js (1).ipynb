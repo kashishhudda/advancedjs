{
  "nbformat": 4,
  "nbformat_minor": 0,
  "metadata": {
    "colab": {
      "provenance": []
    },
    "kernelspec": {
      "name": "python3",
      "display_name": "Python 3"
    },
    "language_info": {
      "name": "python"
    }
  },
  "cells": [
    {
      "cell_type": "markdown",
      "source": [
        "1. Create a Map in JavaScript and perform the following operations\n",
        "* Add key-value pairs to the Map0\n",
        "* Check if a specific key exists0\n",
        "* Retrieve the value associated with a given key0\n",
        "* Iterate through all key-value pairs."
      ],
      "metadata": {
        "id": "oQ6sakpiAhcN"
      }
    },
    {
      "cell_type": "code",
      "execution_count": null,
      "metadata": {
        "id": "v2q3YCSr9a2b"
      },
      "outputs": [],
      "source": [
        "// Create a Map\n",
        "const myMap = new Map();\n",
        "\n",
        "// Add key-value pairs\n",
        "myMap.set('name', 'Alice');\n",
        "myMap.set('age', 28);\n",
        "myMap.set('city', 'Mumbai');\n",
        "\n",
        "// Check if a specific key exists\n",
        "console.log(myMap.has('age')); // true\n",
        "\n",
        "// Retrieve the value associated with a key\n",
        "console.log(myMap.get('name')); // 'Alice'\n",
        "\n",
        "// Iterate through all key-value pairs\n",
        "for (let [key, value] of myMap) {\n",
        "  console.log(`${key}: ${value}`);\n",
        "}\n"
      ]
    },
    {
      "cell_type": "markdown",
      "source": [
        "2. Create a Map to store contact information (name, age, email, location) and implement a function to retrieve\n",
        "contact details by name."
      ],
      "metadata": {
        "id": "Iy6l6--NA-uB"
      }
    },
    {
      "cell_type": "code",
      "source": [
        "// Store contacts in a Map\n",
        "const contacts = new Map();\n",
        "contacts.set('John', { name: 'John', age: 26, email: 'john@example.com', location: 'Delhi' });\n",
        "contacts.set('Sara', { name: 'Sara', age: 24, email: 'sara@example.com', location: 'Pune' });\n",
        "\n",
        "function getContactDetails(name) {\n",
        "  return contacts.get(name) || 'Contact not found';\n",
        "}\n",
        "\n",
        "console.log(getContactDetails('Sara')); // { name: 'Sara', age: 24, ... }\n",
        "console.log(getContactDetails('Mike')); // 'Contact not found'\n"
      ],
      "metadata": {
        "id": "78IpWwFWBQ3d"
      },
      "execution_count": null,
      "outputs": []
    },
    {
      "cell_type": "markdown",
      "source": [
        "3. You are given an array of numbers named myArray. Create a function that takes any number of arguments\n",
        "and adds them to the existing array. Use the spread and rest operator.\n",
        "\n",
        "\n"
      ],
      "metadata": {
        "id": "TRFqyvGBBCpl"
      }
    },
    {
      "cell_type": "code",
      "source": [
        "let myArray = [1, 2, 3];\n",
        "\n",
        "function addItems(...args) {\n",
        "  myArray = [...myArray, ...args];\n",
        "}\n",
        "addItems(4, 5, 6);\n",
        "console.log(myArray); // [1, 2, 3, 4, 5, 6]\n"
      ],
      "metadata": {
        "id": "P9f5g_rvBUsY"
      },
      "execution_count": null,
      "outputs": []
    },
    {
      "cell_type": "markdown",
      "source": [
        "4. Create an object car with properties brand, model, and a method displayDetails that prints \"Brand: [brand],\n",
        "Model: [model]\". Test the method using this keyword."
      ],
      "metadata": {
        "id": "RN7R1FbMBGh7"
      }
    },
    {
      "cell_type": "code",
      "source": [
        "const car = {\n",
        "  brand: 'Toyota',\n",
        "  model: 'Corolla',\n",
        "  displayDetails: function() {\n",
        "    console.log(`Brand: ${this.brand}, Model: ${this.model}`);\n",
        "  }\n",
        "};\n",
        "\n",
        "car.displayDetails(); // Brand: Toyota, Model: Corolla\n"
      ],
      "metadata": {
        "id": "kPAPUVsnBX_f"
      },
      "execution_count": null,
      "outputs": []
    },
    {
      "cell_type": "markdown",
      "source": [
        "5. Create two objects person1 and person2 with properties name and age. Create a function “introduce” that\n",
        "prints \"Hello, I'm [name], and I'm [age] years old.\" Use the call method to make person2 introduce itself\n",
        "using the introduce function."
      ],
      "metadata": {
        "id": "1DH826mZBJLm"
      }
    },
    {
      "cell_type": "code",
      "source": [
        "const person1 = {\n",
        "  name: 'Alice',\n",
        "  age: 25\n",
        "};\n",
        "\n",
        "const person2 = {\n",
        "  name: 'Bob',\n",
        "  age: 30\n",
        "};\n",
        "\n",
        "function introduce() {\n",
        "  console.log(`Hello, I'm ${this.name}, and I'm ${this.age} years old.`);\n",
        "}\n",
        "\n",
        "// person2 introduces itself using call\n",
        "introduce.call(person2); // Hello, I'm Bob, and I'm 30 years old.\n"
      ],
      "metadata": {
        "id": "seaqQ4TCBNCO"
      },
      "execution_count": null,
      "outputs": []
    }
  ]
}